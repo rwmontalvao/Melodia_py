{
 "cells": [
  {
   "cell_type": "markdown",
   "id": "7e6aa9df-1655-4225-9e8e-741ba425b7c8",
   "metadata": {},
   "source": [
    "# RNA Differential Geometry \n",
    "\n",
    "This example illustrates how to use Melodia to compute the Differential Geometry of RNA."
   ]
  },
  {
   "cell_type": "code",
   "execution_count": 1,
   "id": "e5ad583e-eef1-4056-8f68-d6648ab9d33d",
   "metadata": {},
   "outputs": [],
   "source": [
    "import os \n",
    "\n",
    "import numpy as np\n",
    "import pandas as pd\n",
    "import seaborn as sns\n",
    "import matplotlib.pyplot as plt\n",
    "\n",
    "from Bio.PDB import PDBParser, PDBIO"
   ]
  },
  {
   "cell_type": "code",
   "execution_count": 2,
   "id": "0eadf646-5644-4813-9c40-01445ba66a78",
   "metadata": {},
   "outputs": [
    {
     "data": {
      "application/vnd.jupyter.widget-view+json": {
       "model_id": "116d41fdec714f0eb6d18ce8d66dcc36",
       "version_major": 2,
       "version_minor": 0
      },
      "text/plain": []
     },
     "metadata": {},
     "output_type": "display_data"
    }
   ],
   "source": [
    "# Import melodia library\n",
    "import melodia_py as mel"
   ]
  },
  {
   "cell_type": "markdown",
   "id": "f7e569d1-e65b-46c0-a5f4-8de3df663318",
   "metadata": {},
   "source": [
    "## Loading a RNA structure directly into a DataFrame\n",
    "\n",
    "The Melodia library automatically recognizes the RNA file and computes the curvature and torsion for the curve fitted through the C5' atoms."
   ]
  },
  {
   "cell_type": "code",
   "execution_count": 3,
   "id": "38f6fdf0-e4a5-4b39-951c-637bed3a2715",
   "metadata": {},
   "outputs": [],
   "source": [
    "dfi = mel.geometry_from_structure_file('6dvk.pdb')"
   ]
  },
  {
   "cell_type": "code",
   "execution_count": 4,
   "id": "642dae18-10b4-4adb-a06c-057fc3ef8af4",
   "metadata": {},
   "outputs": [
    {
     "data": {
      "text/html": [
       "<div>\n",
       "<style scoped>\n",
       "    .dataframe tbody tr th:only-of-type {\n",
       "        vertical-align: middle;\n",
       "    }\n",
       "\n",
       "    .dataframe tbody tr th {\n",
       "        vertical-align: top;\n",
       "    }\n",
       "\n",
       "    .dataframe thead th {\n",
       "        text-align: right;\n",
       "    }\n",
       "</style>\n",
       "<table border=\"1\" class=\"dataframe\">\n",
       "  <thead>\n",
       "    <tr style=\"text-align: right;\">\n",
       "      <th></th>\n",
       "      <th>id</th>\n",
       "      <th>model</th>\n",
       "      <th>code</th>\n",
       "      <th>chain</th>\n",
       "      <th>order</th>\n",
       "      <th>name</th>\n",
       "      <th>curvature</th>\n",
       "      <th>torsion</th>\n",
       "      <th>arc_length</th>\n",
       "    </tr>\n",
       "  </thead>\n",
       "  <tbody>\n",
       "    <tr>\n",
       "      <th>0</th>\n",
       "      <td>0</td>\n",
       "      <td>0</td>\n",
       "      <td>6DVK</td>\n",
       "      <td>H</td>\n",
       "      <td>1</td>\n",
       "      <td>G</td>\n",
       "      <td>0.193377</td>\n",
       "      <td>0.025369</td>\n",
       "      <td>13.472547</td>\n",
       "    </tr>\n",
       "    <tr>\n",
       "      <th>1</th>\n",
       "      <td>1</td>\n",
       "      <td>0</td>\n",
       "      <td>6DVK</td>\n",
       "      <td>H</td>\n",
       "      <td>2</td>\n",
       "      <td>U</td>\n",
       "      <td>0.193377</td>\n",
       "      <td>0.025369</td>\n",
       "      <td>12.896664</td>\n",
       "    </tr>\n",
       "    <tr>\n",
       "      <th>2</th>\n",
       "      <td>2</td>\n",
       "      <td>0</td>\n",
       "      <td>6DVK</td>\n",
       "      <td>H</td>\n",
       "      <td>3</td>\n",
       "      <td>U</td>\n",
       "      <td>0.098052</td>\n",
       "      <td>0.029236</td>\n",
       "      <td>12.913314</td>\n",
       "    </tr>\n",
       "    <tr>\n",
       "      <th>3</th>\n",
       "      <td>3</td>\n",
       "      <td>0</td>\n",
       "      <td>6DVK</td>\n",
       "      <td>H</td>\n",
       "      <td>4</td>\n",
       "      <td>G</td>\n",
       "      <td>0.082884</td>\n",
       "      <td>0.013033</td>\n",
       "      <td>12.592152</td>\n",
       "    </tr>\n",
       "    <tr>\n",
       "      <th>4</th>\n",
       "      <td>4</td>\n",
       "      <td>0</td>\n",
       "      <td>6DVK</td>\n",
       "      <td>H</td>\n",
       "      <td>5</td>\n",
       "      <td>A</td>\n",
       "      <td>0.075299</td>\n",
       "      <td>0.032641</td>\n",
       "      <td>13.351275</td>\n",
       "    </tr>\n",
       "    <tr>\n",
       "      <th>...</th>\n",
       "      <td>...</td>\n",
       "      <td>...</td>\n",
       "      <td>...</td>\n",
       "      <td>...</td>\n",
       "      <td>...</td>\n",
       "      <td>...</td>\n",
       "      <td>...</td>\n",
       "      <td>...</td>\n",
       "      <td>...</td>\n",
       "    </tr>\n",
       "    <tr>\n",
       "      <th>90</th>\n",
       "      <td>90</td>\n",
       "      <td>0</td>\n",
       "      <td>6DVK</td>\n",
       "      <td>H</td>\n",
       "      <td>91</td>\n",
       "      <td>C</td>\n",
       "      <td>0.087606</td>\n",
       "      <td>0.063293</td>\n",
       "      <td>13.641202</td>\n",
       "    </tr>\n",
       "    <tr>\n",
       "      <th>91</th>\n",
       "      <td>91</td>\n",
       "      <td>0</td>\n",
       "      <td>6DVK</td>\n",
       "      <td>H</td>\n",
       "      <td>92</td>\n",
       "      <td>A</td>\n",
       "      <td>0.066516</td>\n",
       "      <td>-0.106413</td>\n",
       "      <td>12.863489</td>\n",
       "    </tr>\n",
       "    <tr>\n",
       "      <th>92</th>\n",
       "      <td>92</td>\n",
       "      <td>0</td>\n",
       "      <td>6DVK</td>\n",
       "      <td>H</td>\n",
       "      <td>93</td>\n",
       "      <td>A</td>\n",
       "      <td>0.062174</td>\n",
       "      <td>0.034566</td>\n",
       "      <td>11.837228</td>\n",
       "    </tr>\n",
       "    <tr>\n",
       "      <th>93</th>\n",
       "      <td>93</td>\n",
       "      <td>0</td>\n",
       "      <td>6DVK</td>\n",
       "      <td>H</td>\n",
       "      <td>94</td>\n",
       "      <td>C</td>\n",
       "      <td>0.128447</td>\n",
       "      <td>0.104269</td>\n",
       "      <td>11.507238</td>\n",
       "    </tr>\n",
       "    <tr>\n",
       "      <th>94</th>\n",
       "      <td>94</td>\n",
       "      <td>0</td>\n",
       "      <td>6DVK</td>\n",
       "      <td>H</td>\n",
       "      <td>95</td>\n",
       "      <td>A</td>\n",
       "      <td>0.128447</td>\n",
       "      <td>0.104269</td>\n",
       "      <td>10.806399</td>\n",
       "    </tr>\n",
       "  </tbody>\n",
       "</table>\n",
       "<p>95 rows × 9 columns</p>\n",
       "</div>"
      ],
      "text/plain": [
       "    id  model  code chain  order name  curvature   torsion  arc_length\n",
       "0    0      0  6DVK     H      1    G   0.193377  0.025369   13.472547\n",
       "1    1      0  6DVK     H      2    U   0.193377  0.025369   12.896664\n",
       "2    2      0  6DVK     H      3    U   0.098052  0.029236   12.913314\n",
       "3    3      0  6DVK     H      4    G   0.082884  0.013033   12.592152\n",
       "4    4      0  6DVK     H      5    A   0.075299  0.032641   13.351275\n",
       "..  ..    ...   ...   ...    ...  ...        ...       ...         ...\n",
       "90  90      0  6DVK     H     91    C   0.087606  0.063293   13.641202\n",
       "91  91      0  6DVK     H     92    A   0.066516 -0.106413   12.863489\n",
       "92  92      0  6DVK     H     93    A   0.062174  0.034566   11.837228\n",
       "93  93      0  6DVK     H     94    C   0.128447  0.104269   11.507238\n",
       "94  94      0  6DVK     H     95    A   0.128447  0.104269   10.806399\n",
       "\n",
       "[95 rows x 9 columns]"
      ]
     },
     "execution_count": 4,
     "metadata": {},
     "output_type": "execute_result"
    }
   ],
   "source": [
    "dfi"
   ]
  },
  {
   "cell_type": "code",
   "execution_count": 5,
   "id": "8d977209-406d-4bc4-a93b-1ac584f384bc",
   "metadata": {},
   "outputs": [
    {
     "data": {
      "image/png": "[encoded data removed]",
      "text/plain": [
       "<Figure size 1000x1000 with 3 Axes>"
      ]
     },
     "metadata": {},
     "output_type": "display_data"
    }
   ],
   "source": [
    "cmap = sns.color_palette('Blues', as_cmap=True)\n",
    "sns.jointplot(x='curvature', y='torsion', data=dfi, kind='kde', cmap=cmap, height=10, fill=True);"
   ]
  },
  {
   "cell_type": "code",
   "execution_count": null,
   "id": "b2897b6c-f687-4a59-8718-e711fe46802c",
   "metadata": {},
   "outputs": [],
   "source": []
  }
 ],
 "metadata": {
  "kernelspec": {
   "display_name": "Python 3 (ipykernel)",
   "language": "python",
   "name": "python3"
  },
  "language_info": {
   "codemirror_mode": {
    "name": "ipython",
    "version": 3
   },
   "file_extension": ".py",
   "mimetype": "text/x-python",
   "name": "python",
   "nbconvert_exporter": "python",
   "pygments_lexer": "ipython3",
   "version": "3.12.4"
  }
 },
 "nbformat": 4,
 "nbformat_minor": 5
}
